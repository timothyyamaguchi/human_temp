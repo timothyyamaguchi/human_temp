{
 "cells": [
  {
   "cell_type": "markdown",
   "metadata": {},
   "source": [
    "# What is the True Normal Human Body Temperature? \n",
    "\n",
    "#### Background\n",
    "\n",
    "The mean normal body temperature was held to be 37$^{\\circ}$C or 98.6$^{\\circ}$F for more than 120 years since it was first conceptualized and reported by Carl Wunderlich in a famous 1868 book. But, is this value statistically correct?"
   ]
  },
  {
   "cell_type": "markdown",
   "metadata": {},
   "source": [
    "<div class=\"span5 alert alert-info\">\n",
    "<h3>Exercises</h3>\n",
    "\n",
    "<p>In this exercise, you will analyze a dataset of human body temperatures and employ the concepts of hypothesis testing, confidence intervals, and statistical significance.</p>\n",
    "\n",
    "<p>Answer the following questions <b>in this notebook below and submit to your Github account</b>.</p> \n",
    "\n",
    "<ol>\n",
    "<li>  Is the distribution of body temperatures normal? \n",
    "    <ul>\n",
    "    <li> Although this is not a requirement for CLT to hold (read CLT carefully), it gives us some peace of mind that the population may also be normally distributed if we assume that this sample is representative of the population.\n",
    "    </ul>\n",
    "<li>  Is the sample size large? Are the observations independent?\n",
    "    <ul>\n",
    "    <li> Remember that this is a condition for the CLT, and hence the statistical tests we are using, to apply.\n",
    "    </ul>\n",
    "<li>  Is the true population mean really 98.6 degrees F?\n",
    "    <ul>\n",
    "    <li> Would you use a one-sample or two-sample test? Why?\n",
    "    <li> In this situation, is it appropriate to use the $t$ or $z$ statistic? \n",
    "    <li> Now try using the other test. How is the result be different? Why?\n",
    "    </ul>\n",
    "<li>  At what temperature should we consider someone's temperature to be \"abnormal\"?\n",
    "    <ul>\n",
    "    <li> Start by computing the margin of error and confidence interval.\n",
    "    </ul>\n",
    "<li>  Is there a significant difference between males and females in normal temperature?\n",
    "    <ul>\n",
    "    <li> What test did you use and why?\n",
    "    <li> Write a story with your conclusion in the context of the original problem.\n",
    "    </ul>\n",
    "</ol>\n",
    "\n",
    "You can include written notes in notebook cells using Markdown: \n",
    "   - In the control panel at the top, choose Cell > Cell Type > Markdown\n",
    "   - Markdown syntax: http://nestacms.com/docs/creating-content/markdown-cheat-sheet\n",
    "\n",
    "#### Resources\n",
    "\n",
    "+ Information and data sources: http://www.amstat.org/publications/jse/datasets/normtemp.txt, http://www.amstat.org/publications/jse/jse_data_archive.htm\n",
    "+ Markdown syntax: http://nestacms.com/docs/creating-content/markdown-cheat-sheet\n",
    "\n",
    "****\n",
    "</div>"
   ]
  },
  {
   "cell_type": "code",
   "execution_count": 9,
   "metadata": {
    "collapsed": true
   },
   "outputs": [],
   "source": [
    "# Importing the libraries\n",
    "import pandas as pd\n",
    "import scipy.stats as stats\n",
    "import matplotlib.pyplot as plt\n",
    "import matplotlib.mlab as mlab\n",
    "import numpy as np\n",
    "import math"
   ]
  },
  {
   "cell_type": "code",
   "execution_count": 10,
   "metadata": {
    "collapsed": false
   },
   "outputs": [],
   "source": [
    "# Importing the dataframe\n",
    "df = pd.read_csv('human_body_temperature.csv')"
   ]
  },
  {
   "cell_type": "code",
   "execution_count": 11,
   "metadata": {
    "collapsed": false
   },
   "outputs": [
    {
     "name": "stdout",
     "output_type": "stream",
     "text": [
      "If data is normal, the mean, median, and mode will all be equal\n",
      "The mean is 98.2492307692\n",
      "The median is 98.3\n",
      "The mode is 98.0\n",
      "The variance is 0.533422485207\n",
      "The standard deviation is 0.730357778905\n"
     ]
    }
   ],
   "source": [
    "# To calculate the total variance\n",
    "def calc_variance(temp_list):\n",
    "    variance = 0\n",
    "    for temp in temp_list:\n",
    "        variance = variance + (mean_df - temp) ** 2\n",
    "    return variance / len(temp_list)\n",
    "\n",
    "temp = df.temperature\n",
    "\n",
    "# Quick check to determine if data is normal\n",
    "print 'If data is normal, the mean, median, and mode will all be equal'\n",
    "mean_df = temp.mean() # to calculate the mean temperature\n",
    "median_df = temp.median() # to calculate the middle temperature\n",
    "mode_df = float(temp.mode()) # to calculate the most frequent temperature\n",
    "variance = float(calc_variance(temp))\n",
    "std_dev = math.sqrt(variance)\n",
    "\n",
    "print 'The mean is %s' % (mean_df)\n",
    "print 'The median is %s' % (median_df)\n",
    "print 'The mode is %s' % (mode_df)\n",
    "print 'The variance is %s' % (variance)\n",
    "print 'The standard deviation is %s' % (std_dev)"
   ]
  },
  {
   "cell_type": "code",
   "execution_count": 12,
   "metadata": {
    "collapsed": false,
    "scrolled": true
   },
   "outputs": [
    {
     "data": {
      "image/png": "[encoded data removed]",
      "text/plain": [
       "<matplotlib.figure.Figure at 0xbad6ba8>"
      ]
     },
     "metadata": {},
     "output_type": "display_data"
    }
   ],
   "source": [
    "# Plotting the distribution\n",
    "mu = float(mean_df)\n",
    "x = np.linspace(mu-3*variance, mu+3*variance, 100)\n",
    "plt.plot(x, mlab.normpdf(x,mu,std_dev))\n",
    "plt.show()"
   ]
  },
  {
   "cell_type": "code",
   "execution_count": 9,
   "metadata": {
    "collapsed": true
   },
   "outputs": [],
   "source": [
    "# To determine necessary sample size\n",
    "pass"
   ]
  },
  {
   "cell_type": "code",
   "execution_count": 10,
   "metadata": {
    "collapsed": true
   },
   "outputs": [],
   "source": [
    "# To determine independence\n",
    "pass"
   ]
  },
  {
   "cell_type": "code",
   "execution_count": 13,
   "metadata": {
    "collapsed": false
   },
   "outputs": [
    {
     "name": "stdout",
     "output_type": "stream",
     "text": [
      "I am 95% confident that the true population mean is around 98.6\n"
     ]
    }
   ],
   "source": [
    "# To determine the true population mean\n",
    "# One sample t test using the t statistic\n",
    "population_mean = 98.6\n",
    "sample_size = math.sqrt(130)\n",
    "t_value_single = (mu - population_mean) / (std_dev / sample_size)\n",
    "t_table_value = stats.t.ppf(.95, 130)\n",
    "if abs(t_value_single) > abs(t_table_value):\n",
    "    print 'I am 95% confident that the true population mean is around 98.6'"
   ]
  },
  {
   "cell_type": "code",
   "execution_count": 14,
   "metadata": {
    "collapsed": false
   },
   "outputs": [
    {
     "name": "stdout",
     "output_type": "stream",
     "text": [
      "It would be abnormal if someone's temperature was above 99.6807320159 or below 96.8177295226\n"
     ]
    }
   ],
   "source": [
    "# Considering someone's temperature to be 'abnormal'\n",
    "# Using a 95% confidence interval\n",
    "confidence_value_high = mu + (1.96*std_dev)\n",
    "confidence_value_low = mu - (1.96*std_dev)\n",
    "print \"It would be abnormal if someone's temperature was above %s or below %s\" % (confidence_value_high, confidence_value_low)"
   ]
  },
  {
   "cell_type": "code",
   "execution_count": 15,
   "metadata": {
    "collapsed": false
   },
   "outputs": [],
   "source": [
    "# Differentiating between male and female\n",
    "temp_df_gen = df[['temperature', 'gender']]\n",
    "temp_df_male = temp_df_gen[temp_df_gen.gender == 'M']\n",
    "temp_df_female = temp_df_gen[temp_df_gen.gender == 'F']"
   ]
  },
  {
   "cell_type": "code",
   "execution_count": 18,
   "metadata": {
    "collapsed": false
   },
   "outputs": [
    {
     "name": "stdout",
     "output_type": "stream",
     "text": [
      "If data is normal, the mean, median, and mode will all be equal\n",
      "The mean is 98.1046153846\n",
      "The median is 98.1\n",
      "The mode is 98.3\n",
      "The variance is 0.480747928994\n",
      "The standard deviation is 0.693359884183\n"
     ]
    }
   ],
   "source": [
    "# To calculate the total variance for males\n",
    "def calc_variance_male(temp_list):\n",
    "    variance = 0\n",
    "    for temp in temp_list:\n",
    "        variance = variance + (mean_df_male - temp) ** 2\n",
    "    return variance / len(temp_list)\n",
    "\n",
    "# Quick check to determine if male data is normal\n",
    "temp_list_male = temp_df_male.temperature\n",
    "print 'If data is normal, the mean, median, and mode will all be equal'\n",
    "mean_df_male = float(temp_df_male.mean()) # to calculate the mean temperature\n",
    "median_df_male = float(temp_df_male.median()) # to calculate the middle temperature\n",
    "mode_df_male = temp_df_male.mode().temperature.mean() # to calculate the most frequent temperature\n",
    "variance_male = calc_variance_male(temp_list_male)\n",
    "std_dev_male = math.sqrt(float(variance_male))\n",
    "\n",
    "print 'The mean is %s' % (mean_df_male)\n",
    "print 'The median is %s' % (median_df_male)\n",
    "print 'The mode is %s' % (mode_df_male)\n",
    "print 'The variance is %s' % (variance_male)\n",
    "print 'The standard deviation is %s' % (std_dev_male)"
   ]
  },
  {
   "cell_type": "code",
   "execution_count": 19,
   "metadata": {
    "collapsed": false
   },
   "outputs": [
    {
     "data": {
      "image/png": "[encoded data removed]",
      "text/plain": [
       "<matplotlib.figure.Figure at 0xb9c1898>"
      ]
     },
     "metadata": {},
     "output_type": "display_data"
    }
   ],
   "source": [
    "# Plotting male distribution\n",
    "mu_male = float(mean_df_male)\n",
    "x_male = np.linspace(mu_male-3*variance, mu_male+3*variance, 100)\n",
    "plt.plot(x, mlab.normpdf(x,mu_male,std_dev))\n",
    "plt.show()"
   ]
  },
  {
   "cell_type": "code",
   "execution_count": 23,
   "metadata": {
    "collapsed": false
   },
   "outputs": [
    {
     "name": "stdout",
     "output_type": "stream",
     "text": [
      "If data is normal, the mean, median, and mode will all be equal\n",
      "The mean is 98.3938461538\n",
      "The median is 98.4\n",
      "The mode is 98.8\n",
      "The variance is 0.565183431953\n",
      "The standard deviation is 0.730357778905\n"
     ]
    }
   ],
   "source": [
    "# To calculate the total variance for females\n",
    "def calc_variance_female(temp_list):\n",
    "    variance = 0\n",
    "    for temp in temp_list:\n",
    "        variance = variance + (mean_df_female - temp) ** 2\n",
    "    return variance / len(temp_list)\n",
    "\n",
    "# Quick check to determine if female data is normal\n",
    "temp_list_female = temp_df_female.temperature\n",
    "print 'If data is normal, the mean, median, and mode will all be equal'\n",
    "mean_df_female = float(temp_df_female.mean()) # to calculate the mean temperature\n",
    "median_df_female = float(temp_df_female.median()) # to calculate the middle temperature\n",
    "mode_df_female = float(temp_df_female.mode().temperature) # to calculate the most frequent temperature\n",
    "variance_female = float(calc_variance(temp_list_female))\n",
    "std_dev_female = math.sqrt(variance)\n",
    "\n",
    "print 'The mean is %s' % (mean_df_female)\n",
    "print 'The median is %s' % (median_df_female)\n",
    "print 'The mode is %s' % (mode_df_female)\n",
    "print 'The variance is %s' % (variance_female)\n",
    "print 'The standard deviation is %s' % (std_dev_female)"
   ]
  },
  {
   "cell_type": "code",
   "execution_count": 24,
   "metadata": {
    "collapsed": false
   },
   "outputs": [
    {
     "data": {
      "image/png": "[encoded data removed]",
      "text/plain": [
       "<matplotlib.figure.Figure at 0xc15cba8>"
      ]
     },
     "metadata": {},
     "output_type": "display_data"
    }
   ],
   "source": [
    "# Plotting female distribution\n",
    "mu_female = float(mean_df_female)\n",
    "x_female = np.linspace(mu_female-3*variance, mu_female+3*variance, 100)\n",
    "plt.plot(x, mlab.normpdf(x,mu_female,std_dev))\n",
    "plt.show()"
   ]
  },
  {
   "cell_type": "code",
   "execution_count": 29,
   "metadata": {
    "collapsed": false
   },
   "outputs": [
    {
     "name": "stdout",
     "output_type": "stream",
     "text": [
      "I am 95% confident that the true population mean is around 98.6\n"
     ]
    }
   ],
   "source": [
    "# To determine the true population mean\n",
    "# Two sample t test using the t statistic\n",
    "population_mean = 98.6\n",
    "sample_size = math.sqrt(130)\n",
    "t_value_double = (mu_male - mu_female) / math.sqrt((variance_male / 65) + (variance_female / 65))\n",
    "t_table_value_double = stats.t.ppf(.975, 130)\n",
    "if abs(t_value_double) > abs(t_table_value_double):\n",
    "    print 'I am 95% confident that the true population mean is around 98.6'"
   ]
  }
 ],
 "metadata": {
  "kernelspec": {
   "display_name": "Python 2",
   "language": "python",
   "name": "python2"
  },
  "language_info": {
   "codemirror_mode": {
    "name": "ipython",
    "version": 2
   },
   "file_extension": ".py",
   "mimetype": "text/x-python",
   "name": "python",
   "nbconvert_exporter": "python",
   "pygments_lexer": "ipython2",
   "version": "2.7.13"
  }
 },
 "nbformat": 4,
 "nbformat_minor": 0
}
